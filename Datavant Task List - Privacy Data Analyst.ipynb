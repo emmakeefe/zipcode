{
 "cells": [
  {
   "cell_type": "code",
   "execution_count": 104,
   "metadata": {},
   "outputs": [],
   "source": [
    "import csv\n",
    "import pandas as pd\n",
    "import numpy as np\n",
    "import matplotlib.pyplot as plt\n",
    "plt.style.use('ggplot')\n",
    "from matplotlib.pyplot import figure\n",
    "import seaborn as sns\n",
    "sns.set_palette(\"colorblind\")\n",
    "palette = sns.color_palette(\"colorblind\")"
   ]
  },
  {
   "cell_type": "code",
   "execution_count": 105,
   "metadata": {},
   "outputs": [],
   "source": [
    "# read in dataset a to dataset_a dataframe\n",
    "dataset_a = pd.read_csv('tasksheetdataa.csv')"
   ]
  },
  {
   "cell_type": "code",
   "execution_count": 106,
   "metadata": {},
   "outputs": [],
   "source": [
    "# read in dataset z to dataset_z dataframe\n",
    "dataset_z = pd.read_csv('tasksheetdataz.csv')"
   ]
  },
  {
   "cell_type": "code",
   "execution_count": 107,
   "metadata": {},
   "outputs": [],
   "source": [
    "# remove unneeded columns from dataset a\n",
    "dataset_a = dataset_a.drop(columns=['fileid', 'chariter', 'cifsn', 'logrecno', 'sumlev', 'geocomp', 'areawatr', 'name', 'funcstat', 'hu100', 'intptlat', 'intptlon', 'lsadc'])"
   ]
  },
  {
   "cell_type": "code",
   "execution_count": 108,
   "metadata": {},
   "outputs": [],
   "source": [
    "# remove unneeded columns from dataset z\n",
    "dataset_z = dataset_z.drop(columns=['county', 'county_fips', 'community', 'community_code', 'accuracy'])"
   ]
  },
  {
   "cell_type": "code",
   "execution_count": 109,
   "metadata": {},
   "outputs": [],
   "source": [
    "# rename column 'zcta5' in dataset a to 'zip' to make the column name consistent between datasets\n",
    "dataset_a = dataset_a.rename(columns={'zcta5':'zip'})"
   ]
  },
  {
   "cell_type": "code",
   "execution_count": 110,
   "metadata": {},
   "outputs": [],
   "source": [
    "# drop 'stusab' column on dataset a since it isn't actually the state abbreviation - it's probably mislabeled as every row is 'US'\n",
    "dataset_a = dataset_a.drop(columns = {'stusab'})"
   ]
  },
  {
   "cell_type": "code",
   "execution_count": 111,
   "metadata": {},
   "outputs": [
    {
     "data": {
      "text/plain": [
       "33120"
      ]
     },
     "execution_count": 111,
     "metadata": {},
     "output_type": "execute_result"
    }
   ],
   "source": [
    "# there are 41469 rows in dataset_z\n",
    "dataset_z['zip'].count()\n",
    "\n",
    "# there are 33120 rows in dataset_a\n",
    "dataset_a['zip'].count()"
   ]
  },
  {
   "cell_type": "code",
   "execution_count": 112,
   "metadata": {},
   "outputs": [
    {
     "data": {
      "text/plain": [
       "32974"
      ]
     },
     "execution_count": 112,
     "metadata": {},
     "output_type": "execute_result"
    }
   ],
   "source": [
    "# Inner join data sets on zip column to connect state data to zip codes\n",
    "joined = pd.merge(left = dataset_z, right = dataset_a, how = 'inner', on = 'zip')\n",
    "joined.head()\n",
    "\n",
    "# new joined dataframe has 32974 rows - it doesn't contain every row from either dataset (a or z)\n",
    "joined['zip'].count()"
   ]
  },
  {
   "cell_type": "markdown",
   "metadata": {},
   "source": [
    "#### a) Texas has the most 5-digit zip codes with a total of 1935. "
   ]
  },
  {
   "cell_type": "code",
   "execution_count": 113,
   "metadata": {},
   "outputs": [
    {
     "data": {
      "text/html": [
       "<div>\n",
       "<style scoped>\n",
       "    .dataframe tbody tr th:only-of-type {\n",
       "        vertical-align: middle;\n",
       "    }\n",
       "\n",
       "    .dataframe tbody tr th {\n",
       "        vertical-align: top;\n",
       "    }\n",
       "\n",
       "    .dataframe thead th {\n",
       "        text-align: right;\n",
       "    }\n",
       "</style>\n",
       "<table border=\"1\" class=\"dataframe\">\n",
       "  <thead>\n",
       "    <tr style=\"text-align: right;\">\n",
       "      <th></th>\n",
       "      <th>country</th>\n",
       "      <th>zip</th>\n",
       "      <th>city</th>\n",
       "      <th>state</th>\n",
       "      <th>stusab</th>\n",
       "      <th>latitude</th>\n",
       "      <th>longitude</th>\n",
       "      <th>p0010001</th>\n",
       "      <th>arealand</th>\n",
       "      <th>pop100</th>\n",
       "    </tr>\n",
       "  </thead>\n",
       "  <tbody>\n",
       "    <tr>\n",
       "      <th>0</th>\n",
       "      <td>US</td>\n",
       "      <td>99553</td>\n",
       "      <td>Akutan</td>\n",
       "      <td>Alaska</td>\n",
       "      <td>AK</td>\n",
       "      <td>54.1430</td>\n",
       "      <td>-165.7854</td>\n",
       "      <td>1027</td>\n",
       "      <td>35823298</td>\n",
       "      <td>1027</td>\n",
       "    </tr>\n",
       "    <tr>\n",
       "      <th>1</th>\n",
       "      <td>US</td>\n",
       "      <td>99571</td>\n",
       "      <td>Cold Bay</td>\n",
       "      <td>Alaska</td>\n",
       "      <td>AK</td>\n",
       "      <td>55.1858</td>\n",
       "      <td>-162.7211</td>\n",
       "      <td>160</td>\n",
       "      <td>76206560</td>\n",
       "      <td>160</td>\n",
       "    </tr>\n",
       "    <tr>\n",
       "      <th>2</th>\n",
       "      <td>US</td>\n",
       "      <td>99583</td>\n",
       "      <td>False Pass</td>\n",
       "      <td>Alaska</td>\n",
       "      <td>AK</td>\n",
       "      <td>54.8542</td>\n",
       "      <td>-163.4113</td>\n",
       "      <td>35</td>\n",
       "      <td>33061429</td>\n",
       "      <td>35</td>\n",
       "    </tr>\n",
       "    <tr>\n",
       "      <th>3</th>\n",
       "      <td>US</td>\n",
       "      <td>99612</td>\n",
       "      <td>King Cove</td>\n",
       "      <td>Alaska</td>\n",
       "      <td>AK</td>\n",
       "      <td>55.0628</td>\n",
       "      <td>-162.3056</td>\n",
       "      <td>938</td>\n",
       "      <td>30280355</td>\n",
       "      <td>938</td>\n",
       "    </tr>\n",
       "    <tr>\n",
       "      <th>4</th>\n",
       "      <td>US</td>\n",
       "      <td>99661</td>\n",
       "      <td>Sand Point</td>\n",
       "      <td>Alaska</td>\n",
       "      <td>AK</td>\n",
       "      <td>55.3192</td>\n",
       "      <td>-160.4914</td>\n",
       "      <td>978</td>\n",
       "      <td>460666008</td>\n",
       "      <td>978</td>\n",
       "    </tr>\n",
       "  </tbody>\n",
       "</table>\n",
       "</div>"
      ],
      "text/plain": [
       "  country    zip        city   state stusab  latitude  longitude  p0010001  \\\n",
       "0      US  99553      Akutan  Alaska     AK   54.1430  -165.7854      1027   \n",
       "1      US  99571    Cold Bay  Alaska     AK   55.1858  -162.7211       160   \n",
       "2      US  99583  False Pass  Alaska     AK   54.8542  -163.4113        35   \n",
       "3      US  99612   King Cove  Alaska     AK   55.0628  -162.3056       938   \n",
       "4      US  99661  Sand Point  Alaska     AK   55.3192  -160.4914       978   \n",
       "\n",
       "    arealand  pop100  \n",
       "0   35823298    1027  \n",
       "1   76206560     160  \n",
       "2   33061429      35  \n",
       "3   30280355     938  \n",
       "4  460666008     978  "
      ]
     },
     "execution_count": 113,
     "metadata": {},
     "output_type": "execute_result"
    }
   ],
   "source": [
    "# convert zip column to string so that the length can be used\n",
    "joined['zip'] = joined['zip'].astype('str')\n",
    "joined.head()"
   ]
  },
  {
   "cell_type": "code",
   "execution_count": 114,
   "metadata": {},
   "outputs": [],
   "source": [
    "# create a subset of data where the zips are all five digits\n",
    "five_bool = joined['zip'].str.len() == 5\n",
    "five = joined.loc[five_bool]"
   ]
  },
  {
   "cell_type": "code",
   "execution_count": 115,
   "metadata": {},
   "outputs": [
    {
     "data": {
      "text/plain": [
       "country               US\n",
       "zip                99929\n",
       "city              Zwolle\n",
       "latitude         71.2346\n",
       "longitude        -71.944\n",
       "p0010001          113916\n",
       "arealand     34786101507\n",
       "pop100            113916\n",
       "dtype: object"
      ]
     },
     "execution_count": 115,
     "metadata": {},
     "output_type": "execute_result"
    }
   ],
   "source": [
    "five.max()"
   ]
  },
  {
   "cell_type": "code",
   "execution_count": 116,
   "metadata": {},
   "outputs": [],
   "source": [
    "# there are 30547 rows in 'five'\n",
    "five.count()\n",
    "\n",
    "# create a new dataframe that lists each unique zip alongside the state name in an array\n",
    "five_unique = five.groupby(['stusab'])['zip'].unique().reset_index()"
   ]
  },
  {
   "cell_type": "code",
   "execution_count": 117,
   "metadata": {},
   "outputs": [
    {
     "data": {
      "text/html": [
       "<div>\n",
       "<style scoped>\n",
       "    .dataframe tbody tr th:only-of-type {\n",
       "        vertical-align: middle;\n",
       "    }\n",
       "\n",
       "    .dataframe tbody tr th {\n",
       "        vertical-align: top;\n",
       "    }\n",
       "\n",
       "    .dataframe thead th {\n",
       "        text-align: right;\n",
       "    }\n",
       "</style>\n",
       "<table border=\"1\" class=\"dataframe\">\n",
       "  <thead>\n",
       "    <tr style=\"text-align: right;\">\n",
       "      <th></th>\n",
       "      <th>stusab</th>\n",
       "      <th>zip</th>\n",
       "      <th>unique_zip_counts</th>\n",
       "    </tr>\n",
       "  </thead>\n",
       "  <tbody>\n",
       "    <tr>\n",
       "      <th>37</th>\n",
       "      <td>TX</td>\n",
       "      <td>[75763, 75779, 75801, 75803, 75832, 75839, 758...</td>\n",
       "      <td>1935</td>\n",
       "    </tr>\n",
       "  </tbody>\n",
       "</table>\n",
       "</div>"
      ],
      "text/plain": [
       "   stusab                                                zip  \\\n",
       "37     TX  [75763, 75779, 75801, 75803, 75832, 75839, 758...   \n",
       "\n",
       "    unique_zip_counts  \n",
       "37               1935  "
      ]
     },
     "execution_count": 117,
     "metadata": {},
     "output_type": "execute_result"
    }
   ],
   "source": [
    "# create a new column in the dataframe that counts the number of items in the array\n",
    "five_unique['unique_zip_counts']=[len(i) for i in five_unique['zip']]\n",
    "\n",
    "# find the maximum number of unique zips\n",
    "fmax = five_unique['unique_zip_counts'].max()\n",
    "\n",
    "# find the state that has the maximum number of unique zips\n",
    "most_uniques = five_unique[five_unique['unique_zip_counts'] == fmax]\n",
    "\n",
    "# display state and zip info\n",
    "most_uniques"
   ]
  },
  {
   "cell_type": "markdown",
   "metadata": {},
   "source": [
    "### b) "
   ]
  },
  {
   "cell_type": "markdown",
   "metadata": {},
   "source": [
    "### i. ### Montauk, NY has the most easterly zip (11954)"
   ]
  },
  {
   "cell_type": "code",
   "execution_count": 118,
   "metadata": {},
   "outputs": [
    {
     "data": {
      "text/plain": [
       "-71.944"
      ]
     },
     "execution_count": 118,
     "metadata": {},
     "output_type": "execute_result"
    }
   ],
   "source": [
    "# this creates a series that shows the maximum longitude per zip code \n",
    "easterly = five.groupby(['zip'])['longitude'].max().max()\n",
    "easterly"
   ]
  },
  {
   "cell_type": "code",
   "execution_count": 119,
   "metadata": {},
   "outputs": [],
   "source": [
    "most_easterly_zip = five[five.longitude == easterly]"
   ]
  },
  {
   "cell_type": "code",
   "execution_count": 120,
   "metadata": {},
   "outputs": [
    {
     "data": {
      "text/html": [
       "<div>\n",
       "<style scoped>\n",
       "    .dataframe tbody tr th:only-of-type {\n",
       "        vertical-align: middle;\n",
       "    }\n",
       "\n",
       "    .dataframe tbody tr th {\n",
       "        vertical-align: top;\n",
       "    }\n",
       "\n",
       "    .dataframe thead th {\n",
       "        text-align: right;\n",
       "    }\n",
       "</style>\n",
       "<table border=\"1\" class=\"dataframe\">\n",
       "  <thead>\n",
       "    <tr style=\"text-align: right;\">\n",
       "      <th></th>\n",
       "      <th>country</th>\n",
       "      <th>zip</th>\n",
       "      <th>city</th>\n",
       "      <th>state</th>\n",
       "      <th>stusab</th>\n",
       "      <th>latitude</th>\n",
       "      <th>longitude</th>\n",
       "      <th>p0010001</th>\n",
       "      <th>arealand</th>\n",
       "      <th>pop100</th>\n",
       "    </tr>\n",
       "  </thead>\n",
       "  <tbody>\n",
       "    <tr>\n",
       "      <th>21476</th>\n",
       "      <td>US</td>\n",
       "      <td>11954</td>\n",
       "      <td>Montauk</td>\n",
       "      <td>New York</td>\n",
       "      <td>NY</td>\n",
       "      <td>41.0459</td>\n",
       "      <td>-71.944</td>\n",
       "      <td>3326</td>\n",
       "      <td>47942719</td>\n",
       "      <td>3326</td>\n",
       "    </tr>\n",
       "  </tbody>\n",
       "</table>\n",
       "</div>"
      ],
      "text/plain": [
       "      country    zip     city     state stusab  latitude  longitude  p0010001  \\\n",
       "21476      US  11954  Montauk  New York     NY   41.0459    -71.944      3326   \n",
       "\n",
       "       arealand  pop100  \n",
       "21476  47942719    3326  "
      ]
     },
     "execution_count": 120,
     "metadata": {},
     "output_type": "execute_result"
    }
   ],
   "source": [
    "most_easterly_zip"
   ]
  },
  {
   "cell_type": "markdown",
   "metadata": {},
   "source": [
    "------------------------"
   ]
  },
  {
   "cell_type": "markdown",
   "metadata": {},
   "source": [
    "### ii. ### Makaweli, Hawaii has the most westerly zip (96769) when Alaska is excluded"
   ]
  },
  {
   "cell_type": "code",
   "execution_count": 121,
   "metadata": {},
   "outputs": [
    {
     "data": {
      "text/html": [
       "<div>\n",
       "<style scoped>\n",
       "    .dataframe tbody tr th:only-of-type {\n",
       "        vertical-align: middle;\n",
       "    }\n",
       "\n",
       "    .dataframe tbody tr th {\n",
       "        vertical-align: top;\n",
       "    }\n",
       "\n",
       "    .dataframe thead th {\n",
       "        text-align: right;\n",
       "    }\n",
       "</style>\n",
       "<table border=\"1\" class=\"dataframe\">\n",
       "  <thead>\n",
       "    <tr style=\"text-align: right;\">\n",
       "      <th></th>\n",
       "      <th>country</th>\n",
       "      <th>zip</th>\n",
       "      <th>city</th>\n",
       "      <th>state</th>\n",
       "      <th>stusab</th>\n",
       "      <th>latitude</th>\n",
       "      <th>longitude</th>\n",
       "      <th>p0010001</th>\n",
       "      <th>arealand</th>\n",
       "      <th>pop100</th>\n",
       "    </tr>\n",
       "  </thead>\n",
       "  <tbody>\n",
       "    <tr>\n",
       "      <th>6360</th>\n",
       "      <td>US</td>\n",
       "      <td>96769</td>\n",
       "      <td>Makaweli</td>\n",
       "      <td>Hawaii</td>\n",
       "      <td>HI</td>\n",
       "      <td>21.9454</td>\n",
       "      <td>-159.9214</td>\n",
       "      <td>464</td>\n",
       "      <td>193525234</td>\n",
       "      <td>464</td>\n",
       "    </tr>\n",
       "  </tbody>\n",
       "</table>\n",
       "</div>"
      ],
      "text/plain": [
       "     country    zip      city   state stusab  latitude  longitude  p0010001  \\\n",
       "6360      US  96769  Makaweli  Hawaii     HI   21.9454  -159.9214       464   \n",
       "\n",
       "       arealand  pop100  \n",
       "6360  193525234     464  "
      ]
     },
     "execution_count": 121,
     "metadata": {},
     "output_type": "execute_result"
    }
   ],
   "source": [
    "# task b - excluding Alaska, find the most westerly zip code\n",
    "westerly_no_ak = five[(five['stusab'] != 'AK')].longitude.min()\n",
    "westerly_no_ak\n",
    "most_westerly_not_ak = five[five.longitude == westerly_no_ak]\n",
    "most_westerly_not_ak"
   ]
  },
  {
   "cell_type": "markdown",
   "metadata": {},
   "source": [
    "---------------------"
   ]
  },
  {
   "cell_type": "markdown",
   "metadata": {},
   "source": [
    "### iii. Barrow, Alaska has the most northerly zip (99723)"
   ]
  },
  {
   "cell_type": "code",
   "execution_count": 122,
   "metadata": {},
   "outputs": [
    {
     "data": {
      "text/plain": [
       "71.2346"
      ]
     },
     "execution_count": 122,
     "metadata": {},
     "output_type": "execute_result"
    }
   ],
   "source": [
    "northerly = five['latitude'].max()\n",
    "northerly"
   ]
  },
  {
   "cell_type": "code",
   "execution_count": 123,
   "metadata": {},
   "outputs": [
    {
     "data": {
      "text/html": [
       "<div>\n",
       "<style scoped>\n",
       "    .dataframe tbody tr th:only-of-type {\n",
       "        vertical-align: middle;\n",
       "    }\n",
       "\n",
       "    .dataframe tbody tr th {\n",
       "        vertical-align: top;\n",
       "    }\n",
       "\n",
       "    .dataframe thead th {\n",
       "        text-align: right;\n",
       "    }\n",
       "</style>\n",
       "<table border=\"1\" class=\"dataframe\">\n",
       "  <thead>\n",
       "    <tr style=\"text-align: right;\">\n",
       "      <th></th>\n",
       "      <th>country</th>\n",
       "      <th>zip</th>\n",
       "      <th>city</th>\n",
       "      <th>state</th>\n",
       "      <th>stusab</th>\n",
       "      <th>latitude</th>\n",
       "      <th>longitude</th>\n",
       "      <th>p0010001</th>\n",
       "      <th>arealand</th>\n",
       "      <th>pop100</th>\n",
       "    </tr>\n",
       "  </thead>\n",
       "  <tbody>\n",
       "    <tr>\n",
       "      <th>154</th>\n",
       "      <td>US</td>\n",
       "      <td>99723</td>\n",
       "      <td>Barrow</td>\n",
       "      <td>Alaska</td>\n",
       "      <td>AK</td>\n",
       "      <td>71.2346</td>\n",
       "      <td>-156.8174</td>\n",
       "      <td>4213</td>\n",
       "      <td>53780612</td>\n",
       "      <td>4213</td>\n",
       "    </tr>\n",
       "  </tbody>\n",
       "</table>\n",
       "</div>"
      ],
      "text/plain": [
       "    country    zip    city   state stusab  latitude  longitude  p0010001  \\\n",
       "154      US  99723  Barrow  Alaska     AK   71.2346  -156.8174      4213   \n",
       "\n",
       "     arealand  pop100  \n",
       "154  53780612    4213  "
      ]
     },
     "execution_count": 123,
     "metadata": {},
     "output_type": "execute_result"
    }
   ],
   "source": [
    "most_northerly = five[five.latitude == northerly]\n",
    "most_northerly"
   ]
  },
  {
   "cell_type": "markdown",
   "metadata": {},
   "source": [
    "-------------"
   ]
  },
  {
   "cell_type": "markdown",
   "metadata": {},
   "source": [
    "## c)  Washington DC has the zip code with the highest population density: 20052"
   ]
  },
  {
   "cell_type": "code",
   "execution_count": 124,
   "metadata": {},
   "outputs": [
    {
     "name": "stderr",
     "output_type": "stream",
     "text": [
      "/Users/emmakeefe/anaconda3/lib/python3.7/site-packages/ipykernel_launcher.py:2: SettingWithCopyWarning: \n",
      "A value is trying to be set on a copy of a slice from a DataFrame.\n",
      "Try using .loc[row_indexer,col_indexer] = value instead\n",
      "\n",
      "See the caveats in the documentation: http://pandas.pydata.org/pandas-docs/stable/indexing.html#indexing-view-versus-copy\n",
      "  \n"
     ]
    },
    {
     "data": {
      "text/html": [
       "<div>\n",
       "<style scoped>\n",
       "    .dataframe tbody tr th:only-of-type {\n",
       "        vertical-align: middle;\n",
       "    }\n",
       "\n",
       "    .dataframe tbody tr th {\n",
       "        vertical-align: top;\n",
       "    }\n",
       "\n",
       "    .dataframe thead th {\n",
       "        text-align: right;\n",
       "    }\n",
       "</style>\n",
       "<table border=\"1\" class=\"dataframe\">\n",
       "  <thead>\n",
       "    <tr style=\"text-align: right;\">\n",
       "      <th></th>\n",
       "      <th>country</th>\n",
       "      <th>zip</th>\n",
       "      <th>city</th>\n",
       "      <th>state</th>\n",
       "      <th>stusab</th>\n",
       "      <th>latitude</th>\n",
       "      <th>longitude</th>\n",
       "      <th>p0010001</th>\n",
       "      <th>arealand</th>\n",
       "      <th>pop100</th>\n",
       "      <th>pop_density</th>\n",
       "    </tr>\n",
       "  </thead>\n",
       "  <tbody>\n",
       "    <tr>\n",
       "      <th>4467</th>\n",
       "      <td>US</td>\n",
       "      <td>20052</td>\n",
       "      <td>Washington</td>\n",
       "      <td>District of Columbia</td>\n",
       "      <td>DC</td>\n",
       "      <td>38.9001</td>\n",
       "      <td>-77.0479</td>\n",
       "      <td>470</td>\n",
       "      <td>7062</td>\n",
       "      <td>470</td>\n",
       "      <td>0.066553</td>\n",
       "    </tr>\n",
       "  </tbody>\n",
       "</table>\n",
       "</div>"
      ],
      "text/plain": [
       "     country    zip        city                 state stusab  latitude  \\\n",
       "4467      US  20052  Washington  District of Columbia     DC   38.9001   \n",
       "\n",
       "      longitude  p0010001  arealand  pop100  pop_density  \n",
       "4467   -77.0479       470      7062     470     0.066553  "
      ]
     },
     "execution_count": 124,
     "metadata": {},
     "output_type": "execute_result"
    }
   ],
   "source": [
    "# create a new column 'pop_density,' which is a measure of population divided by land area\n",
    "five['pop_density'] = five.pop100/five.arealand\n",
    "\n",
    "# find the highest density value\n",
    "highest_density = five['pop_density'].max()\n",
    "\n",
    "#return all columns where the population density is the highest\n",
    "high_density_zip = five[five.pop_density == highest_density]\n",
    "high_density_zip"
   ]
  },
  {
   "cell_type": "markdown",
   "metadata": {},
   "source": [
    "--------"
   ]
  },
  {
   "cell_type": "markdown",
   "metadata": {},
   "source": [
    "### d) "
   ]
  },
  {
   "cell_type": "markdown",
   "metadata": {},
   "source": [
    "### i.  There are 449 3-digit zip codes that are used in 2 or more states. Some examples are 467, 708, and 376."
   ]
  },
  {
   "cell_type": "code",
   "execution_count": 125,
   "metadata": {},
   "outputs": [
    {
     "data": {
      "text/html": [
       "<div>\n",
       "<style scoped>\n",
       "    .dataframe tbody tr th:only-of-type {\n",
       "        vertical-align: middle;\n",
       "    }\n",
       "\n",
       "    .dataframe tbody tr th {\n",
       "        vertical-align: top;\n",
       "    }\n",
       "\n",
       "    .dataframe thead th {\n",
       "        text-align: right;\n",
       "    }\n",
       "</style>\n",
       "<table border=\"1\" class=\"dataframe\">\n",
       "  <thead>\n",
       "    <tr style=\"text-align: right;\">\n",
       "      <th></th>\n",
       "      <th>country</th>\n",
       "      <th>zip</th>\n",
       "      <th>city</th>\n",
       "      <th>state</th>\n",
       "      <th>stusab</th>\n",
       "      <th>latitude</th>\n",
       "      <th>longitude</th>\n",
       "      <th>p0010001</th>\n",
       "      <th>arealand</th>\n",
       "      <th>pop100</th>\n",
       "    </tr>\n",
       "  </thead>\n",
       "  <tbody>\n",
       "    <tr>\n",
       "      <th>0</th>\n",
       "      <td>US</td>\n",
       "      <td>99553</td>\n",
       "      <td>Akutan</td>\n",
       "      <td>Alaska</td>\n",
       "      <td>AK</td>\n",
       "      <td>54.1430</td>\n",
       "      <td>-165.7854</td>\n",
       "      <td>1027</td>\n",
       "      <td>35823298</td>\n",
       "      <td>1027</td>\n",
       "    </tr>\n",
       "    <tr>\n",
       "      <th>1</th>\n",
       "      <td>US</td>\n",
       "      <td>99571</td>\n",
       "      <td>Cold Bay</td>\n",
       "      <td>Alaska</td>\n",
       "      <td>AK</td>\n",
       "      <td>55.1858</td>\n",
       "      <td>-162.7211</td>\n",
       "      <td>160</td>\n",
       "      <td>76206560</td>\n",
       "      <td>160</td>\n",
       "    </tr>\n",
       "    <tr>\n",
       "      <th>2</th>\n",
       "      <td>US</td>\n",
       "      <td>99583</td>\n",
       "      <td>False Pass</td>\n",
       "      <td>Alaska</td>\n",
       "      <td>AK</td>\n",
       "      <td>54.8542</td>\n",
       "      <td>-163.4113</td>\n",
       "      <td>35</td>\n",
       "      <td>33061429</td>\n",
       "      <td>35</td>\n",
       "    </tr>\n",
       "    <tr>\n",
       "      <th>3</th>\n",
       "      <td>US</td>\n",
       "      <td>99612</td>\n",
       "      <td>King Cove</td>\n",
       "      <td>Alaska</td>\n",
       "      <td>AK</td>\n",
       "      <td>55.0628</td>\n",
       "      <td>-162.3056</td>\n",
       "      <td>938</td>\n",
       "      <td>30280355</td>\n",
       "      <td>938</td>\n",
       "    </tr>\n",
       "    <tr>\n",
       "      <th>4</th>\n",
       "      <td>US</td>\n",
       "      <td>99661</td>\n",
       "      <td>Sand Point</td>\n",
       "      <td>Alaska</td>\n",
       "      <td>AK</td>\n",
       "      <td>55.3192</td>\n",
       "      <td>-160.4914</td>\n",
       "      <td>978</td>\n",
       "      <td>460666008</td>\n",
       "      <td>978</td>\n",
       "    </tr>\n",
       "  </tbody>\n",
       "</table>\n",
       "</div>"
      ],
      "text/plain": [
       "  country    zip        city   state stusab  latitude  longitude  p0010001  \\\n",
       "0      US  99553      Akutan  Alaska     AK   54.1430  -165.7854      1027   \n",
       "1      US  99571    Cold Bay  Alaska     AK   55.1858  -162.7211       160   \n",
       "2      US  99583  False Pass  Alaska     AK   54.8542  -163.4113        35   \n",
       "3      US  99612   King Cove  Alaska     AK   55.0628  -162.3056       938   \n",
       "4      US  99661  Sand Point  Alaska     AK   55.3192  -160.4914       978   \n",
       "\n",
       "    arealand  pop100  \n",
       "0   35823298    1027  \n",
       "1   76206560     160  \n",
       "2   33061429      35  \n",
       "3   30280355     938  \n",
       "4  460666008     978  "
      ]
     },
     "execution_count": 125,
     "metadata": {},
     "output_type": "execute_result"
    }
   ],
   "source": [
    "#convert 5-digit ZIPs to 3-digit ZIPs\n",
    "joined.head()"
   ]
  },
  {
   "cell_type": "code",
   "execution_count": 126,
   "metadata": {},
   "outputs": [],
   "source": [
    "# create a new column in joined that truncates zip codes to the first three digits\n",
    "joined['zip3'] = joined['zip'].str.slice(0,3)"
   ]
  },
  {
   "cell_type": "code",
   "execution_count": 127,
   "metadata": {},
   "outputs": [
    {
     "data": {
      "text/plain": [
       "zip3      449\n",
       "stusab    449\n",
       "dtype: int64"
      ]
     },
     "execution_count": 127,
     "metadata": {},
     "output_type": "execute_result"
    }
   ],
   "source": [
    "# create a dataframe with the number of unqiue states per zip code\n",
    "states_zips = joined.groupby(['zip3'])['stusab'].nunique().reset_index()\n",
    "\n",
    "# create another dataframe that filters out any zip codes that only have one state associated with it\n",
    "states_zips_multi = states_zips[states_zips['stusab'] != 1]\n",
    "\n",
    "# count the number of zip codes that are associated with 2 or more states\n",
    "states_zips_multi.count()"
   ]
  },
  {
   "cell_type": "markdown",
   "metadata": {},
   "source": [
    "------"
   ]
  },
  {
   "cell_type": "markdown",
   "metadata": {},
   "source": [
    "### e)"
   ]
  },
  {
   "cell_type": "code",
   "execution_count": 128,
   "metadata": {},
   "outputs": [
    {
     "data": {
      "text/plain": [
       "country      0\n",
       "zip          0\n",
       "city         0\n",
       "state        0\n",
       "stusab       0\n",
       "latitude     0\n",
       "longitude    0\n",
       "p0010001     0\n",
       "arealand     0\n",
       "pop100       0\n",
       "zip3         0\n",
       "dtype: int64"
      ]
     },
     "execution_count": 128,
     "metadata": {},
     "output_type": "execute_result"
    }
   ],
   "source": [
    "# Exclude zip codes associated with multiple states from the joined dataframe\n",
    "joined['zip3'].isin(states_zips_multi['zip3'])\n",
    "\n",
    "# inverse of the boolean series above\n",
    "joined['zip3'].isin(states_zips_multi['zip3'])\n",
    "\n",
    "# update the 'joined' dataframe so that it no longer includes zip codes associated with more than one state\n",
    "joined = joined[~joined['zip3'].isin(states_zips_multi['zip3'])]\n",
    "\n",
    "# check to see if the above did what was intended, which was to remove zips used in more than one state\n",
    "# this should return a count of 57, since this was not removed from the 'joined' dataframe\n",
    "joined.query(\"zip3 == '995'\").count()\n",
    "\n",
    "# this should return a count of 0, since it was removed from the 'joined' dataframe\n",
    "joined.query(\"zip3 == '708'\").count()"
   ]
  },
  {
   "cell_type": "markdown",
   "metadata": {},
   "source": [
    "### i) There are 831 zip codes that have populations between 10 and 20000 residents."
   ]
  },
  {
   "cell_type": "code",
   "execution_count": 129,
   "metadata": {},
   "outputs": [],
   "source": [
    "# query for populations between 10 and 20000 that have a 3-digit ZIP code\n",
    "# 27040 results \n",
    "\n",
    "small_pop_zips = joined.loc[(joined['pop100'] > 9) & (joined['pop100'] <= 20000) & (joined['zip3'] is not None)].reset_index()\n",
    "# small_pop_zips.count()"
   ]
  },
  {
   "cell_type": "code",
   "execution_count": 130,
   "metadata": {},
   "outputs": [
    {
     "data": {
      "text/plain": [
       "index        10756\n",
       "country      10756\n",
       "zip          10756\n",
       "city         10756\n",
       "state        10754\n",
       "stusab       10754\n",
       "latitude     10756\n",
       "longitude    10756\n",
       "p0010001     10756\n",
       "arealand     10756\n",
       "pop100       10756\n",
       "zip3         10756\n",
       "dtype: int64"
      ]
     },
     "execution_count": 130,
     "metadata": {},
     "output_type": "execute_result"
    }
   ],
   "source": [
    "# 10756 rows in this dataframe\n",
    "small_pop_zips.count()"
   ]
  },
  {
   "cell_type": "code",
   "execution_count": 131,
   "metadata": {},
   "outputs": [],
   "source": [
    "# The above list has zip codes listed multiple times, so we need to find the number of unique zip codes that meet the population criteria\n",
    "unique_small_pop_zips = small_pop_zips.groupby(['zip3'])['zip3'].nunique().count()"
   ]
  },
  {
   "cell_type": "code",
   "execution_count": 132,
   "metadata": {},
   "outputs": [
    {
     "data": {
      "text/plain": [
       "382"
      ]
     },
     "execution_count": 132,
     "metadata": {},
     "output_type": "execute_result"
    }
   ],
   "source": [
    "# this shows the total number of unique zip codes that have populations between 10 and 20000 residents\n",
    "# 382 total\n",
    "unique_small_pop_zips"
   ]
  },
  {
   "cell_type": "markdown",
   "metadata": {},
   "source": [
    "### f) Distribution of 3 and 5-digit populations"
   ]
  },
  {
   "cell_type": "code",
   "execution_count": 133,
   "metadata": {},
   "outputs": [],
   "source": [
    "# create a new column 'pop_density,' which is a measure of population divided by land area\n",
    "small_pop_zips['pop_density'] = small_pop_zips.pop100/small_pop_zips.arealand"
   ]
  },
  {
   "cell_type": "code",
   "execution_count": 134,
   "metadata": {},
   "outputs": [
    {
     "data": {
      "text/plain": [
       "Text(0, 0.5, 'Frequency')"
      ]
     },
     "execution_count": 134,
     "metadata": {},
     "output_type": "execute_result"
    },
    {
     "data": {
      "image/png": "[encoded data removed]",
      "text/plain": [
       "<Figure size 432x288 with 1 Axes>"
      ]
     },
     "metadata": {},
     "output_type": "display_data"
    }
   ],
   "source": [
    "plt.hist(small_pop_zips['pop_density']*100000, [0, 1, 2, 3, 4, 5, 6, 7, 8, 9, 10])\n",
    "plt.title(\"Variation in Population Density of Small 3-digit Zip Codes\")\n",
    "plt.xlabel('Population')\n",
    "plt.ylabel('Frequency')"
   ]
  },
  {
   "cell_type": "markdown",
   "metadata": {},
   "source": [
    "#### iii. Alaska's 997 has the lowest density population of the three-digit zip codes in this dataset. Only 30 people live in the zip code and it appears to be a fairly large area, so this makes sense."
   ]
  },
  {
   "cell_type": "code",
   "execution_count": 135,
   "metadata": {},
   "outputs": [
    {
     "data": {
      "text/html": [
       "<div>\n",
       "<style scoped>\n",
       "    .dataframe tbody tr th:only-of-type {\n",
       "        vertical-align: middle;\n",
       "    }\n",
       "\n",
       "    .dataframe tbody tr th {\n",
       "        vertical-align: top;\n",
       "    }\n",
       "\n",
       "    .dataframe thead th {\n",
       "        text-align: right;\n",
       "    }\n",
       "</style>\n",
       "<table border=\"1\" class=\"dataframe\">\n",
       "  <thead>\n",
       "    <tr style=\"text-align: right;\">\n",
       "      <th></th>\n",
       "      <th>index</th>\n",
       "      <th>country</th>\n",
       "      <th>zip</th>\n",
       "      <th>city</th>\n",
       "      <th>state</th>\n",
       "      <th>stusab</th>\n",
       "      <th>latitude</th>\n",
       "      <th>longitude</th>\n",
       "      <th>p0010001</th>\n",
       "      <th>arealand</th>\n",
       "      <th>pop100</th>\n",
       "      <th>zip3</th>\n",
       "      <th>pop_density</th>\n",
       "    </tr>\n",
       "  </thead>\n",
       "  <tbody>\n",
       "    <tr>\n",
       "      <th>204</th>\n",
       "      <td>218</td>\n",
       "      <td>US</td>\n",
       "      <td>99726</td>\n",
       "      <td>Bettles Field</td>\n",
       "      <td>Alaska</td>\n",
       "      <td>AK</td>\n",
       "      <td>65.2264</td>\n",
       "      <td>-151.0251</td>\n",
       "      <td>30</td>\n",
       "      <td>5947543601</td>\n",
       "      <td>30</td>\n",
       "      <td>997</td>\n",
       "      <td>5.044099e-09</td>\n",
       "    </tr>\n",
       "  </tbody>\n",
       "</table>\n",
       "</div>"
      ],
      "text/plain": [
       "     index country    zip           city   state stusab  latitude  longitude  \\\n",
       "204    218      US  99726  Bettles Field  Alaska     AK   65.2264  -151.0251   \n",
       "\n",
       "     p0010001    arealand  pop100 zip3   pop_density  \n",
       "204        30  5947543601      30  997  5.044099e-09  "
      ]
     },
     "execution_count": 135,
     "metadata": {},
     "output_type": "execute_result"
    }
   ],
   "source": [
    "# find the lowest density value\n",
    "lowest_density = small_pop_zips['pop_density'].min()\n",
    "\n",
    "\n",
    "#return all columns where the population density is the lowest\n",
    "lowest_density_zip = small_pop_zips[small_pop_zips.pop_density == lowest_density]\n",
    "lowest_density_zip"
   ]
  },
  {
   "cell_type": "code",
   "execution_count": 136,
   "metadata": {
    "scrolled": true
   },
   "outputs": [
    {
     "data": {
      "text/html": [
       "<div>\n",
       "<style scoped>\n",
       "    .dataframe tbody tr th:only-of-type {\n",
       "        vertical-align: middle;\n",
       "    }\n",
       "\n",
       "    .dataframe tbody tr th {\n",
       "        vertical-align: top;\n",
       "    }\n",
       "\n",
       "    .dataframe thead th {\n",
       "        text-align: right;\n",
       "    }\n",
       "</style>\n",
       "<table border=\"1\" class=\"dataframe\">\n",
       "  <thead>\n",
       "    <tr style=\"text-align: right;\">\n",
       "      <th></th>\n",
       "      <th>country</th>\n",
       "      <th>zip</th>\n",
       "      <th>city</th>\n",
       "      <th>state</th>\n",
       "      <th>stusab</th>\n",
       "      <th>latitude</th>\n",
       "      <th>longitude</th>\n",
       "      <th>p0010001</th>\n",
       "      <th>arealand</th>\n",
       "      <th>pop100</th>\n",
       "      <th>pop_density</th>\n",
       "    </tr>\n",
       "  </thead>\n",
       "  <tbody>\n",
       "    <tr>\n",
       "      <th>0</th>\n",
       "      <td>US</td>\n",
       "      <td>99553</td>\n",
       "      <td>Akutan</td>\n",
       "      <td>Alaska</td>\n",
       "      <td>AK</td>\n",
       "      <td>54.1430</td>\n",
       "      <td>-165.7854</td>\n",
       "      <td>1027</td>\n",
       "      <td>35823298</td>\n",
       "      <td>1027</td>\n",
       "      <td>0.000029</td>\n",
       "    </tr>\n",
       "    <tr>\n",
       "      <th>1</th>\n",
       "      <td>US</td>\n",
       "      <td>99571</td>\n",
       "      <td>Cold Bay</td>\n",
       "      <td>Alaska</td>\n",
       "      <td>AK</td>\n",
       "      <td>55.1858</td>\n",
       "      <td>-162.7211</td>\n",
       "      <td>160</td>\n",
       "      <td>76206560</td>\n",
       "      <td>160</td>\n",
       "      <td>0.000002</td>\n",
       "    </tr>\n",
       "    <tr>\n",
       "      <th>2</th>\n",
       "      <td>US</td>\n",
       "      <td>99583</td>\n",
       "      <td>False Pass</td>\n",
       "      <td>Alaska</td>\n",
       "      <td>AK</td>\n",
       "      <td>54.8542</td>\n",
       "      <td>-163.4113</td>\n",
       "      <td>35</td>\n",
       "      <td>33061429</td>\n",
       "      <td>35</td>\n",
       "      <td>0.000001</td>\n",
       "    </tr>\n",
       "    <tr>\n",
       "      <th>3</th>\n",
       "      <td>US</td>\n",
       "      <td>99612</td>\n",
       "      <td>King Cove</td>\n",
       "      <td>Alaska</td>\n",
       "      <td>AK</td>\n",
       "      <td>55.0628</td>\n",
       "      <td>-162.3056</td>\n",
       "      <td>938</td>\n",
       "      <td>30280355</td>\n",
       "      <td>938</td>\n",
       "      <td>0.000031</td>\n",
       "    </tr>\n",
       "    <tr>\n",
       "      <th>4</th>\n",
       "      <td>US</td>\n",
       "      <td>99661</td>\n",
       "      <td>Sand Point</td>\n",
       "      <td>Alaska</td>\n",
       "      <td>AK</td>\n",
       "      <td>55.3192</td>\n",
       "      <td>-160.4914</td>\n",
       "      <td>978</td>\n",
       "      <td>460666008</td>\n",
       "      <td>978</td>\n",
       "      <td>0.000002</td>\n",
       "    </tr>\n",
       "  </tbody>\n",
       "</table>\n",
       "</div>"
      ],
      "text/plain": [
       "  country    zip        city   state stusab  latitude  longitude  p0010001  \\\n",
       "0      US  99553      Akutan  Alaska     AK   54.1430  -165.7854      1027   \n",
       "1      US  99571    Cold Bay  Alaska     AK   55.1858  -162.7211       160   \n",
       "2      US  99583  False Pass  Alaska     AK   54.8542  -163.4113        35   \n",
       "3      US  99612   King Cove  Alaska     AK   55.0628  -162.3056       938   \n",
       "4      US  99661  Sand Point  Alaska     AK   55.3192  -160.4914       978   \n",
       "\n",
       "    arealand  pop100  pop_density  \n",
       "0   35823298    1027     0.000029  \n",
       "1   76206560     160     0.000002  \n",
       "2   33061429      35     0.000001  \n",
       "3   30280355     938     0.000031  \n",
       "4  460666008     978     0.000002  "
      ]
     },
     "execution_count": 136,
     "metadata": {},
     "output_type": "execute_result"
    }
   ],
   "source": [
    "five.head()"
   ]
  },
  {
   "cell_type": "code",
   "execution_count": 137,
   "metadata": {},
   "outputs": [],
   "source": [
    "# create a dataframe of population grouped by 3-digit zip\n",
    "three = joined.groupby(['zip3'])['pop100'].sum().reset_index()"
   ]
  },
  {
   "cell_type": "code",
   "execution_count": 138,
   "metadata": {
    "scrolled": true
   },
   "outputs": [
    {
     "data": {
      "text/plain": [
       "Text(0, 0.5, 'Frequency')"
      ]
     },
     "execution_count": 138,
     "metadata": {},
     "output_type": "execute_result"
    },
    {
     "data": {
      "image/png": "[encoded data removed]",
      "text/plain": [
       "<Figure size 432x288 with 1 Axes>"
      ]
     },
     "metadata": {},
     "output_type": "display_data"
    }
   ],
   "source": [
    "\n",
    "plt.hist(five['pop100'])\n",
    "plt.title(\"Population Distributions for 5-digit Zip Codes\")\n",
    "plt.xlabel('Population')\n",
    "plt.ylabel('Frequency')\n"
   ]
  },
  {
   "cell_type": "code",
   "execution_count": 139,
   "metadata": {},
   "outputs": [
    {
     "data": {
      "text/plain": [
       "Text(0, 0.5, 'Frequency')"
      ]
     },
     "execution_count": 139,
     "metadata": {},
     "output_type": "execute_result"
    },
    {
     "data": {
      "image/png": "[encoded data removed]",
      "text/plain": [
       "<Figure size 432x288 with 1 Axes>"
      ]
     },
     "metadata": {},
     "output_type": "display_data"
    }
   ],
   "source": [
    "plt.hist(three['pop100'])\n",
    "plt.title(\"Population Distributions for 3-digit Zip Codes\")\n",
    "plt.xlabel('Population')\n",
    "plt.ylabel('Frequency')"
   ]
  },
  {
   "cell_type": "code",
   "execution_count": 140,
   "metadata": {},
   "outputs": [
    {
     "data": {
      "text/plain": [
       "country        30547\n",
       "zip            30547\n",
       "city           30547\n",
       "state          30545\n",
       "stusab         30545\n",
       "latitude       30547\n",
       "longitude      30547\n",
       "p0010001       30547\n",
       "arealand       30547\n",
       "pop100         30547\n",
       "pop_density    30547\n",
       "dtype: int64"
      ]
     },
     "execution_count": 140,
     "metadata": {},
     "output_type": "execute_result"
    }
   ],
   "source": [
    "five.count()"
   ]
  },
  {
   "cell_type": "code",
   "execution_count": 141,
   "metadata": {},
   "outputs": [
    {
     "data": {
      "text/html": [
       "<div>\n",
       "<style scoped>\n",
       "    .dataframe tbody tr th:only-of-type {\n",
       "        vertical-align: middle;\n",
       "    }\n",
       "\n",
       "    .dataframe tbody tr th {\n",
       "        vertical-align: top;\n",
       "    }\n",
       "\n",
       "    .dataframe thead th {\n",
       "        text-align: right;\n",
       "    }\n",
       "</style>\n",
       "<table border=\"1\" class=\"dataframe\">\n",
       "  <thead>\n",
       "    <tr style=\"text-align: right;\">\n",
       "      <th></th>\n",
       "      <th>country</th>\n",
       "      <th>zip</th>\n",
       "      <th>city</th>\n",
       "      <th>state</th>\n",
       "      <th>stusab</th>\n",
       "      <th>latitude</th>\n",
       "      <th>longitude</th>\n",
       "      <th>p0010001</th>\n",
       "      <th>arealand</th>\n",
       "      <th>pop100</th>\n",
       "      <th>pop_density</th>\n",
       "    </tr>\n",
       "  </thead>\n",
       "  <tbody>\n",
       "    <tr>\n",
       "      <th>0</th>\n",
       "      <td>US</td>\n",
       "      <td>99553</td>\n",
       "      <td>Akutan</td>\n",
       "      <td>Alaska</td>\n",
       "      <td>AK</td>\n",
       "      <td>54.1430</td>\n",
       "      <td>-165.7854</td>\n",
       "      <td>1027</td>\n",
       "      <td>35823298</td>\n",
       "      <td>1027</td>\n",
       "      <td>0.000029</td>\n",
       "    </tr>\n",
       "    <tr>\n",
       "      <th>1</th>\n",
       "      <td>US</td>\n",
       "      <td>99571</td>\n",
       "      <td>Cold Bay</td>\n",
       "      <td>Alaska</td>\n",
       "      <td>AK</td>\n",
       "      <td>55.1858</td>\n",
       "      <td>-162.7211</td>\n",
       "      <td>160</td>\n",
       "      <td>76206560</td>\n",
       "      <td>160</td>\n",
       "      <td>0.000002</td>\n",
       "    </tr>\n",
       "    <tr>\n",
       "      <th>2</th>\n",
       "      <td>US</td>\n",
       "      <td>99583</td>\n",
       "      <td>False Pass</td>\n",
       "      <td>Alaska</td>\n",
       "      <td>AK</td>\n",
       "      <td>54.8542</td>\n",
       "      <td>-163.4113</td>\n",
       "      <td>35</td>\n",
       "      <td>33061429</td>\n",
       "      <td>35</td>\n",
       "      <td>0.000001</td>\n",
       "    </tr>\n",
       "    <tr>\n",
       "      <th>3</th>\n",
       "      <td>US</td>\n",
       "      <td>99612</td>\n",
       "      <td>King Cove</td>\n",
       "      <td>Alaska</td>\n",
       "      <td>AK</td>\n",
       "      <td>55.0628</td>\n",
       "      <td>-162.3056</td>\n",
       "      <td>938</td>\n",
       "      <td>30280355</td>\n",
       "      <td>938</td>\n",
       "      <td>0.000031</td>\n",
       "    </tr>\n",
       "    <tr>\n",
       "      <th>4</th>\n",
       "      <td>US</td>\n",
       "      <td>99661</td>\n",
       "      <td>Sand Point</td>\n",
       "      <td>Alaska</td>\n",
       "      <td>AK</td>\n",
       "      <td>55.3192</td>\n",
       "      <td>-160.4914</td>\n",
       "      <td>978</td>\n",
       "      <td>460666008</td>\n",
       "      <td>978</td>\n",
       "      <td>0.000002</td>\n",
       "    </tr>\n",
       "  </tbody>\n",
       "</table>\n",
       "</div>"
      ],
      "text/plain": [
       "  country    zip        city   state stusab  latitude  longitude  p0010001  \\\n",
       "0      US  99553      Akutan  Alaska     AK   54.1430  -165.7854      1027   \n",
       "1      US  99571    Cold Bay  Alaska     AK   55.1858  -162.7211       160   \n",
       "2      US  99583  False Pass  Alaska     AK   54.8542  -163.4113        35   \n",
       "3      US  99612   King Cove  Alaska     AK   55.0628  -162.3056       938   \n",
       "4      US  99661  Sand Point  Alaska     AK   55.3192  -160.4914       978   \n",
       "\n",
       "    arealand  pop100  pop_density  \n",
       "0   35823298    1027     0.000029  \n",
       "1   76206560     160     0.000002  \n",
       "2   33061429      35     0.000001  \n",
       "3   30280355     938     0.000031  \n",
       "4  460666008     978     0.000002  "
      ]
     },
     "execution_count": 141,
     "metadata": {},
     "output_type": "execute_result"
    }
   ],
   "source": [
    "five.head()"
   ]
  },
  {
   "cell_type": "code",
   "execution_count": 142,
   "metadata": {},
   "outputs": [
    {
     "data": {
      "text/plain": [
       "zip3      393\n",
       "pop100    393\n",
       "dtype: int64"
      ]
     },
     "execution_count": 142,
     "metadata": {},
     "output_type": "execute_result"
    }
   ],
   "source": [
    "three.count()"
   ]
  },
  {
   "cell_type": "code",
   "execution_count": 143,
   "metadata": {},
   "outputs": [
    {
     "data": {
      "text/html": [
       "<div>\n",
       "<style scoped>\n",
       "    .dataframe tbody tr th:only-of-type {\n",
       "        vertical-align: middle;\n",
       "    }\n",
       "\n",
       "    .dataframe tbody tr th {\n",
       "        vertical-align: top;\n",
       "    }\n",
       "\n",
       "    .dataframe thead th {\n",
       "        text-align: right;\n",
       "    }\n",
       "</style>\n",
       "<table border=\"1\" class=\"dataframe\">\n",
       "  <thead>\n",
       "    <tr style=\"text-align: right;\">\n",
       "      <th></th>\n",
       "      <th>zip3</th>\n",
       "      <th>pop100</th>\n",
       "    </tr>\n",
       "  </thead>\n",
       "  <tbody>\n",
       "    <tr>\n",
       "      <th>0</th>\n",
       "      <td>113</td>\n",
       "      <td>1170817</td>\n",
       "    </tr>\n",
       "    <tr>\n",
       "      <th>1</th>\n",
       "      <td>114</td>\n",
       "      <td>728928</td>\n",
       "    </tr>\n",
       "    <tr>\n",
       "      <th>2</th>\n",
       "      <td>116</td>\n",
       "      <td>114978</td>\n",
       "    </tr>\n",
       "    <tr>\n",
       "      <th>3</th>\n",
       "      <td>117</td>\n",
       "      <td>1565949</td>\n",
       "    </tr>\n",
       "    <tr>\n",
       "      <th>4</th>\n",
       "      <td>118</td>\n",
       "      <td>72690</td>\n",
       "    </tr>\n",
       "  </tbody>\n",
       "</table>\n",
       "</div>"
      ],
      "text/plain": [
       "  zip3   pop100\n",
       "0  113  1170817\n",
       "1  114   728928\n",
       "2  116   114978\n",
       "3  117  1565949\n",
       "4  118    72690"
      ]
     },
     "execution_count": 143,
     "metadata": {},
     "output_type": "execute_result"
    }
   ],
   "source": [
    "three.head()"
   ]
  }
 ],
 "metadata": {
  "kernelspec": {
   "display_name": "Python 3",
   "language": "python",
   "name": "python3"
  },
  "language_info": {
   "codemirror_mode": {
    "name": "ipython",
    "version": 3
   },
   "file_extension": ".py",
   "mimetype": "text/x-python",
   "name": "python",
   "nbconvert_exporter": "python",
   "pygments_lexer": "ipython3",
   "version": "3.7.3"
  }
 },
 "nbformat": 4,
 "nbformat_minor": 2
}
